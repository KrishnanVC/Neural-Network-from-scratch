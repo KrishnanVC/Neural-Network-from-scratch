{
 "cells": [
  {
   "cell_type": "code",
   "execution_count": 1,
   "metadata": {},
   "outputs": [],
   "source": [
    "%matplotlib inline\n",
    "\n",
    "import numpy as np\n",
    "import pandas as pd\n",
    "import matplotlib.pyplot as plt\n",
    "\n",
    "np.random.seed(1)"
   ]
  },
  {
   "cell_type": "code",
   "execution_count": 2,
   "metadata": {},
   "outputs": [],
   "source": [
    "def sigmoid(z):\n",
    "    return 1/(1+np.exp(-z))\n",
    "\n",
    "def sigmoid_der(z):\n",
    "    return sigmoid(z) * (1 - sigmoid(z))\n",
    "\n",
    "def relu(z):\n",
    "    return np.maximum(z,0)\n",
    "\n",
    "def relu_der(z):\n",
    "    return (z >= 0.0).astype(float)"
   ]
  },
  {
   "cell_type": "code",
   "execution_count": 3,
   "metadata": {},
   "outputs": [],
   "source": [
    "def initialize_parameters(dimensions):\n",
    "    params = {}\n",
    "    L = len(dimensions)\n",
    "    for l in range(1,L):\n",
    "        params[\"W\" + str(l)] = np.random.randn(dimensions[l],dimensions[l-1]) * np.sqrt(2/dimensions[l-1])\n",
    "        params[\"b\" + str(l)] = np.zeros((dimensions[l],1))\n",
    "        \n",
    "        assert params[\"W\" + str(l)].shape == (dimensions[l],dimensions[l-1])\n",
    "    \n",
    "    return params"
   ]
  },
  {
   "cell_type": "code",
   "execution_count": 4,
   "metadata": {},
   "outputs": [],
   "source": [
    "def forward_layer(W, X, b, activation):\n",
    "    \n",
    "    Z = np.dot(W, X) + b\n",
    "    A = np.zeros(Z.shape)\n",
    "            \n",
    "    if activation == \"sigmoid\":\n",
    "         A = sigmoid(Z)\n",
    "    elif activation == \"relu\":\n",
    "         A = relu(Z)\n",
    "    cache = np.copy(Z)\n",
    "    \n",
    "    assert A.shape == Z.shape\n",
    "             \n",
    "    return A,cache"
   ]
  },
  {
   "cell_type": "code",
   "execution_count": 5,
   "metadata": {},
   "outputs": [],
   "source": [
    "def forward(X, params,printA=False):\n",
    "    \n",
    "    cache = {\"Z0\": X}\n",
    "    L = len(params)//2 + 1\n",
    "    y_hat = np.copy(X)\n",
    "    \n",
    "    # Hidden layers = relu\n",
    "    for l in range(1,L-1):\n",
    "        y_hat,cache_layer = forward_layer(params[\"W\" + str(l)], y_hat, params[\"b\" + str(l)], \"relu\")\n",
    "        cache[\"Z\" + str(l)] = np.copy(cache_layer)\n",
    "                \n",
    "    # Final layer = sigmoid \n",
    "    y_hat,cache_layer = forward_layer(params[\"W\" + str(L-1)], y_hat, params[\"b\" + str(L-1)], \"sigmoid\")\n",
    "    cache[\"Z\" + str(L-1)] = np.copy(cache_layer)\n",
    "        \n",
    "    return y_hat,cache"
   ]
  },
  {
   "cell_type": "code",
   "execution_count": 6,
   "metadata": {},
   "outputs": [],
   "source": [
    "def compute_cost(y, y_hat):\n",
    "    \n",
    "    m = y.shape[1]\n",
    "    cost = (-1 / m) * np.sum(np.multiply(y, np.log(y_hat)) + np.multiply(1 - y, np.log(1 - y_hat)))\n",
    "\n",
    "    cost = np.squeeze(cost)\n",
    "    \n",
    "    return cost"
   ]
  },
  {
   "cell_type": "code",
   "execution_count": 7,
   "metadata": {},
   "outputs": [],
   "source": [
    "def backward_layer(W, dZn, Z, m):\n",
    "        \n",
    "    dZn = relu_der(dZn) * dZn\n",
    "    dZ = np.dot(W.T, dZn)\n",
    "    dW = (1/m) * np.dot(dZn, Z.T)\n",
    "    db = (1/m) * np.sum(dZn,axis = 1,keepdims = True)\n",
    "    \n",
    "    return dZ,dW,db"
   ]
  },
  {
   "cell_type": "code",
   "execution_count": 8,
   "metadata": {},
   "outputs": [],
   "source": [
    "def backward(Y,y_hat,params,cache):\n",
    "    \n",
    "    m = Y.shape[1]\n",
    "    grads = {}\n",
    "    L = len(params)//2 + 1\n",
    "    \n",
    "    # Derivative of cost function\n",
    "    dy_hat = -(y_hat-Y)/(y_hat*(1-y_hat))\n",
    "    #dy_hat = y_hat - Y\n",
    "        \n",
    "    # Derivative of sigmoid layer\n",
    "    grads[\"dZ\" + str(L-1)] = sigmoid_der(dy_hat) * dy_hat\n",
    "    \n",
    "    for l in range(L-2,-1,-1):\n",
    "        \n",
    "        dZ,dW,db = backward_layer(params[\"W\" + str(l+1)], grads[\"dZ\" + str(l+1)], cache[\"Z\" + str(l)], m)\n",
    "        \n",
    "        grads[\"dZ\" + str(l)] = np.copy(dZ)\n",
    "        grads[\"dW\" + str(l+1)] = np.copy(dW)\n",
    "        grads[\"db\" + str(l+1)] = np.copy(db)\n",
    "        \n",
    "    return grads"
   ]
  },
  {
   "cell_type": "code",
   "execution_count": 9,
   "metadata": {},
   "outputs": [],
   "source": [
    "def update(params,grads,learning_rate):\n",
    "    L = len(params)//2 + 1\n",
    "    for l in range(1,L):\n",
    "        params[\"W\" + str(l)] = params[\"W\" + str(l)] - learning_rate * grads[\"dW\" + str(l)]\n",
    "        params[\"b\" + str(l)] = params[\"b\" + str(l)] - learning_rate * grads[\"db\" + str(l)]\n",
    "    return params"
   ]
  },
  {
   "cell_type": "code",
   "execution_count": 10,
   "metadata": {},
   "outputs": [],
   "source": [
    "def initialize_adam(params):\n",
    "    v = {}\n",
    "    s = {}\n",
    "    L = len(params)//2 + 1\n",
    "    \n",
    "    for l in range(1,L):\n",
    "        v[\"dW\" + str(l)] = np.zeros(params[\"W\" + str(l)].shape)\n",
    "        v[\"db\" + str(l)] = np.zeros(params[\"b\" + str(l)].shape)        \n",
    "        s[\"dW\" + str(l)] = np.zeros(params[\"W\" + str(l)].shape)\n",
    "        s[\"db\" + str(l)] = np.zeros(params[\"b\" + str(l)].shape)\n",
    "    \n",
    "    return v,s\n",
    "\n",
    "def update_adam(params,grads,learning_rate,beta1,beta2,v,s,t=2):\n",
    "    L = len(params)//2 + 1\n",
    "    \n",
    "    for l in range(1,L):\n",
    "        \n",
    "        v[\"dW\" + str(l)] = beta1 * v[\"dW\" + str(l)] + (1 - beta1) * grads[\"dW\" + str(l)]\n",
    "        v[\"db\" + str(l)] = beta1 * v[\"db\" + str(l)] + (1 - beta1) * grads[\"db\" + str(l)]\n",
    "        \n",
    "        #v[\"dW\" + str(l)] = v[\"dW\" + str(l)] / (1 - beta1**t)\n",
    "        #v[\"db\" + str(l)] = v[\"db\" + str(l)] / (1 - beta1**t)\n",
    "        \n",
    "        s[\"dW\" + str(l)] = beta2 * s[\"dW\" + str(l)] + (1 - beta2) * (grads[\"dW\" + str(l)]**2)\n",
    "        s[\"db\" + str(l)] = beta2 * s[\"db\" + str(l)] + (1 - beta2) * (grads[\"db\" + str(l)]**2)\n",
    "        \n",
    "        #s[\"dW\" + str(l)] = s[\"dW\" + str(l)] / (1 - beta2**t)\n",
    "        #s[\"db\" + str(l)] = s[\"db\" + str(l)] / (1 - beta2**t)\n",
    "        \n",
    "        params[\"W\" + str(l)] = params[\"W\" + str(l)] - learning_rate * v[\"dW\" + str(l)] / np.sqrt(s[\"dW\" + str(l)] + 1e-8) \n",
    "        params[\"b\" + str(l)] = params[\"b\" + str(l)] - learning_rate * v[\"db\" + str(l)] / np.sqrt(s[\"db\" + str(l)] + 1e-8)\n",
    "    return params"
   ]
  },
  {
   "cell_type": "code",
   "execution_count": 11,
   "metadata": {},
   "outputs": [
    {
     "name": "stdout",
     "output_type": "stream",
     "text": [
      "average cost\n",
      "0.710637980583468\n",
      "\n",
      "average cost\n",
      "0.6855548161443441\n",
      "\n",
      "average cost\n",
      "0.6765037730677822\n",
      "\n",
      "average cost\n",
      "0.67065650879265\n",
      "\n",
      "average cost\n",
      "0.666550197941799\n",
      "\n",
      "average cost\n",
      "0.6635635737275473\n",
      "\n",
      "average cost\n",
      "0.6613060122016501\n",
      "\n",
      "average cost\n",
      "0.6596080700343159\n",
      "\n",
      "average cost\n",
      "0.658492428165894\n",
      "\n",
      "average cost\n",
      "0.6578637746748512\n",
      "\n"
     ]
    }
   ],
   "source": [
    "# Data input\n",
    "df = pd.read_pickle('./train.pkl')\n",
    "\n",
    "X = df[['red','green','blue']]\n",
    "X = X.to_numpy()\n",
    "X = X.T\n",
    "\n",
    "Y = df[['color']]\n",
    "Y = Y.to_numpy()\n",
    "Y = Y.reshape(-1,Y.shape[0])\n",
    "\n",
    "# Set the dimensions and initialize them\n",
    "dimensions = [3,8,8,8,4,1]\n",
    "params = initialize_parameters(dimensions)\n",
    "\n",
    "alpha = 0.00001\n",
    "costs = []\n",
    "v, s = initialize_adam(params)\n",
    "\n",
    "iterations = 5000\n",
    "\n",
    "for i in range(0,iterations):\n",
    "    \n",
    "    # Forward propagation\n",
    "    y_hat,cache = forward(X,params)\n",
    "    \n",
    "    # Compute cost\n",
    "    cost = compute_cost(Y,y_hat)\n",
    "    costs.append(cost)\n",
    "    \n",
    "    # Backward propagation\n",
    "    grads = backward(Y,y_hat,params,cache)\n",
    "    \n",
    "    # Update the parameters \n",
    "    #params = update(params,grads,alpha)\n",
    "    params = update_adam(params,grads,alpha,0.9,0.999,v,s)\n",
    "        \n",
    "    if i % (iterations//10) == 0:\n",
    "        print(\"average cost\")\n",
    "        print(cost)\n",
    "        print()"
   ]
  },
  {
   "cell_type": "code",
   "execution_count": 12,
   "metadata": {},
   "outputs": [
    {
     "data": {
      "text/plain": [
       "[<matplotlib.lines.Line2D at 0x2082bb4d9d0>]"
      ]
     },
     "execution_count": 12,
     "metadata": {},
     "output_type": "execute_result"
    },
    {
     "data": {
      "image/png": "[encoded data removed]",
      "text/plain": [
       "<Figure size 432x288 with 1 Axes>"
      ]
     },
     "metadata": {
      "needs_background": "light"
     },
     "output_type": "display_data"
    }
   ],
   "source": [
    "plt.plot(costs)"
   ]
  },
  {
   "cell_type": "code",
   "execution_count": 13,
   "metadata": {},
   "outputs": [],
   "source": [
    "# For Accuracy\n",
    "\n",
    "def getAccuracy(dataset):\n",
    "    df_test = pd.read_pickle('./'+ dataset +'.pkl')\n",
    "\n",
    "    X1 = df_test[['red','green','blue']]\n",
    "    X1 = X1.to_numpy()\n",
    "    X1 = X1.T\n",
    "\n",
    "    Y1 = df_test[['color']]\n",
    "    Y1 = Y1.to_numpy()\n",
    "    Y1 = Y1.reshape(-1,Y1.shape[0])\n",
    "\n",
    "    print(df_test.shape)\n",
    "\n",
    "    out,cac = forward(X1,params)\n",
    "   \n",
    "    X1 = X1.T\n",
    "    Y1 = Y1.T\n",
    "    out = (out > 0.5).astype(int)\n",
    "    out = out.T\n",
    "    correctness = 0\n",
    "    for i in range(len(X1)):\n",
    "        if(Y1[i] == out[i]):\n",
    "            correctness += 1\n",
    "\n",
    "    return correctness/len(X1) * 100"
   ]
  },
  {
   "cell_type": "code",
   "execution_count": 14,
   "metadata": {},
   "outputs": [
    {
     "name": "stdout",
     "output_type": "stream",
     "text": [
      "(1515, 4)\n",
      "Train Accuracy 73.3993399339934\n",
      "(85, 4)\n",
      "Test Accuracy 78.82352941176471\n",
      "(84, 4)\n",
      "Dev Accuracy 76.19047619047619\n"
     ]
    }
   ],
   "source": [
    "# Check Accuracy\n",
    "\n",
    "print(\"Train Accuracy\", getAccuracy('train'))\n",
    "print(\"Test Accuracy\", getAccuracy('test'))\n",
    "print(\"Dev Accuracy\", getAccuracy('dev'))"
   ]
  },
  {
   "cell_type": "code",
   "execution_count": 21,
   "metadata": {},
   "outputs": [],
   "source": [
    "# Save the weights and biases from the training as json\n",
    "import json\n",
    "\n",
    "parameters = {}\n",
    "\n",
    "for key in params:\n",
    "    parameters[key] = params[key].tolist()\n",
    "\n",
    "with open('params.json', 'w') as json_file:\n",
    "  json.dump(parameters, json_file)"
   ]
  }
 ],
 "metadata": {
  "kernelspec": {
   "display_name": "Python 3",
   "language": "python",
   "name": "python3"
  },
  "language_info": {
   "codemirror_mode": {
    "name": "ipython",
    "version": 3
   },
   "file_extension": ".py",
   "mimetype": "text/x-python",
   "name": "python",
   "nbconvert_exporter": "python",
   "pygments_lexer": "ipython3",
   "version": "3.8.1"
  }
 },
 "nbformat": 4,
 "nbformat_minor": 4
}
